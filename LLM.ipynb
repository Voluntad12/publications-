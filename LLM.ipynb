{
 "cells": [
  {
   "cell_type": "code",
   "execution_count": 1,
   "id": "4d31dd22",
   "metadata": {},
   "outputs": [],
   "source": [
    "#pip install langchain "
   ]
  },
  {
   "cell_type": "code",
   "execution_count": 2,
   "id": "beb1ab76",
   "metadata": {},
   "outputs": [],
   "source": [
    "from langchain.document_loaders import TextLoader "
   ]
  },
  {
   "cell_type": "code",
   "execution_count": 3,
   "id": "d1f4eaf0",
   "metadata": {},
   "outputs": [],
   "source": [
    "loader=TextLoader('nvda_news_1.txt')\n",
    "data=loader.load()"
   ]
  },
  {
   "cell_type": "code",
   "execution_count": 4,
   "id": "fd582e7b",
   "metadata": {},
   "outputs": [],
   "source": [
    "#pip install -U langchain-community"
   ]
  },
  {
   "cell_type": "code",
   "execution_count": 5,
   "id": "1011f7b9",
   "metadata": {},
   "outputs": [
    {
     "data": {
      "text/plain": [
       "{'source': 'nvda_news_1.txt'}"
      ]
     },
     "execution_count": 5,
     "metadata": {},
     "output_type": "execute_result"
    }
   ],
   "source": [
    "#To obtain the source link of the notebook \n",
    "data[0].metadata"
   ]
  },
  {
   "cell_type": "code",
   "execution_count": 6,
   "id": "8fc0ccd5",
   "metadata": {},
   "outputs": [],
   "source": [
    "from langchain.document_loaders.csv_loader import CSVLoader"
   ]
  },
  {
   "cell_type": "code",
   "execution_count": 7,
   "id": "26550e66",
   "metadata": {},
   "outputs": [],
   "source": [
    "loader=CSVLoader('movies.csv',source_column=\"title\")\n",
    "data=loader.load()"
   ]
  },
  {
   "cell_type": "code",
   "execution_count": 8,
   "id": "cbec0f7a",
   "metadata": {},
   "outputs": [
    {
     "data": {
      "text/plain": [
       "{'source': 'Doctor Strange in the Multiverse of Madness', 'row': 1}"
      ]
     },
     "execution_count": 8,
     "metadata": {},
     "output_type": "execute_result"
    }
   ],
   "source": [
    "data[1].metadata"
   ]
  },
  {
   "cell_type": "code",
   "execution_count": 9,
   "id": "875d5e55",
   "metadata": {},
   "outputs": [
    {
     "data": {
      "text/plain": [
       "'movie_id: 101\\ntitle: K.G.F: Chapter 2\\nindustry: Bollywood\\nrelease_year: 2022\\nimdb_rating: 8.4\\nstudio: Hombale Films\\nlanguage_id: 3\\nbudget: 1\\nrevenue: 12.5\\nunit: Billions\\ncurrency: INR'"
      ]
     },
     "execution_count": 9,
     "metadata": {},
     "output_type": "execute_result"
    }
   ],
   "source": [
    "data[0].page_content"
   ]
  },
  {
   "cell_type": "code",
   "execution_count": 10,
   "id": "3c555eba",
   "metadata": {},
   "outputs": [],
   "source": [
    "#pip install unstructured libmagic python-magic python-magic-bin "
   ]
  },
  {
   "cell_type": "code",
   "execution_count": 11,
   "id": "89fd5fef",
   "metadata": {},
   "outputs": [],
   "source": [
    "from langchain.document_loaders import UnstructuredURLLoader"
   ]
  },
  {
   "cell_type": "code",
   "execution_count": 12,
   "id": "177b9c17",
   "metadata": {},
   "outputs": [],
   "source": [
    "loader = UnstructuredURLLoader(\n",
    "    urls = [\n",
    "        \"https://www.moneycontrol.com/news/business/banks/hdfc-bank-re-appoints-sanmoy-chakrabarti-as-chief-risk-officer-11259771.html\",\n",
    "        \"https://www.moneycontrol.com/news/business/markets/market-corrects-post-rbi-ups-inflation-forecast-icrr-bet-on-these-top-10-rate-sensitive-stocks-ideas-11142611.html\"\n",
    "    ]\n",
    ")"
   ]
  },
  {
   "cell_type": "code",
   "execution_count": 13,
   "id": "1a3313c8",
   "metadata": {},
   "outputs": [
    {
     "data": {
      "text/plain": [
       "2"
      ]
     },
     "execution_count": 13,
     "metadata": {},
     "output_type": "execute_result"
    }
   ],
   "source": [
    "data=loader.load()\n",
    "len(data)"
   ]
  },
  {
   "cell_type": "code",
   "execution_count": 14,
   "id": "eecfb392",
   "metadata": {},
   "outputs": [
    {
     "data": {
      "text/plain": [
       "{'source': 'https://www.moneycontrol.com/news/business/banks/hdfc-bank-re-appoints-sanmoy-chakrabarti-as-chief-risk-officer-11259771.html'}"
      ]
     },
     "execution_count": 14,
     "metadata": {},
     "output_type": "execute_result"
    }
   ],
   "source": [
    "data[0].metadata"
   ]
  },
  {
   "cell_type": "code",
   "execution_count": 15,
   "id": "160ffd15",
   "metadata": {},
   "outputs": [],
   "source": [
    "text = \"\"\"Interstellar is a 2014 epic science fiction film co-written, directed, and produced by Christopher Nolan. \n",
    "It stars Matthew McConaughey, Anne Hathaway, Jessica Chastain, Bill Irwin, Ellen Burstyn, Matt Damon, and Michael Caine. \n",
    "Set in a dystopian future where humanity is embroiled in a catastrophic blight and famine, the film follows a group of astronauts who travel through a wormhole near Saturn in search of a new home for humankind.\n",
    "\n",
    "Brothers Christopher and Jonathan Nolan wrote the screenplay, which had its origins in a script Jonathan developed in 2007 and was originally set to be directed by Steven Spielberg. \n",
    "Kip Thorne, a Caltech theoretical physicist and 2017 Nobel laureate in Physics,[4] was an executive producer, acted as a scientific consultant, and wrote a tie-in book, The Science of Interstellar. \n",
    "Cinematographer Hoyte van Hoytema shot it on 35 mm movie film in the Panavision anamorphic format and IMAX 70 mm. Principal photography began in late 2013 and took place in Alberta, Iceland, and Los Angeles. \n",
    "Interstellar uses extensive practical and miniature effects, and the company Double Negative created additional digital effects.\n",
    "\n",
    "Interstellar premiered in Los Angeles on October 26, 2014. In the United States, it was first released on film stock, expanding to venues using digital projectors. The film received generally positive reviews from critics and grossed over $677 million worldwide ($715 million after subsequent re-releases), making it the tenth-highest-grossing film of 2014. \n",
    "It has been praised by astronomers for its scientific accuracy and portrayal of theoretical astrophysics.[5][6][7] Interstellar was nominated for five awards at the 87th Academy Awards, winning Best Visual Effects, and received numerous other accolades.\"\"\""
   ]
  },
  {
   "cell_type": "code",
   "execution_count": 16,
   "id": "57091361",
   "metadata": {},
   "outputs": [
    {
     "data": {
      "text/plain": [
       "'Interstellar is a 2014 epic science fiction film co-written, directed, and produced by Christopher Nolan. \\nIt stars Matthew McConaughey, Anne Hathaway, Jessica Chastain, Bill Irwin, Ellen Burstyn, Mat'"
      ]
     },
     "execution_count": 16,
     "metadata": {},
     "output_type": "execute_result"
    }
   ],
   "source": [
    "text[:200]"
   ]
  },
  {
   "cell_type": "code",
   "execution_count": 17,
   "id": "1e2cb31c",
   "metadata": {},
   "outputs": [],
   "source": [
    "words = text.split(\" \")\n",
    "chunks=[]\n",
    "s=\"\"\n",
    "for word in words : \n",
    "    s += word  + \" \" \n",
    "    if len(s)>200: \n",
    "        chunks.append(s)\n",
    "        s= \"\"\n",
    "\n",
    "chunks.append(s)"
   ]
  },
  {
   "cell_type": "code",
   "execution_count": 18,
   "id": "c83016d3",
   "metadata": {},
   "outputs": [
    {
     "name": "stderr",
     "output_type": "stream",
     "text": [
      "Created a chunk of size 210, which is longer than the specified 200\n",
      "Created a chunk of size 208, which is longer than the specified 200\n",
      "Created a chunk of size 358, which is longer than the specified 200\n"
     ]
    }
   ],
   "source": [
    "from langchain.text_splitter import CharacterTextSplitter \n",
    "splitter=CharacterTextSplitter(\n",
    "    separator=\"\\n\", \n",
    "    chunk_size=200, \n",
    "    chunk_overlap=0\n",
    ")\n",
    "chunks=splitter.split_text(text)"
   ]
  },
  {
   "cell_type": "code",
   "execution_count": 19,
   "id": "c540e191",
   "metadata": {},
   "outputs": [
    {
     "data": {
      "text/plain": [
       "9"
      ]
     },
     "execution_count": 19,
     "metadata": {},
     "output_type": "execute_result"
    }
   ],
   "source": [
    "len(chunks)\n"
   ]
  },
  {
   "cell_type": "code",
   "execution_count": 20,
   "id": "4c5af244",
   "metadata": {},
   "outputs": [
    {
     "name": "stdout",
     "output_type": "stream",
     "text": [
      "105\n",
      "120\n",
      "210\n",
      "181\n",
      "197\n",
      "207\n",
      "128\n",
      "357\n",
      "253\n"
     ]
    }
   ],
   "source": [
    "for chunk in chunks : \n",
    "    print(len(chunk))"
   ]
  },
  {
   "cell_type": "code",
   "execution_count": 21,
   "id": "c429c996",
   "metadata": {},
   "outputs": [],
   "source": [
    "from langchain.text_splitter import RecursiveCharacterTextSplitter \n",
    "r_splitter=RecursiveCharacterTextSplitter(\n",
    "    separators=[\"\\n\\n\", \"\\n\", \" \"], \n",
    "    chunk_size=200, \n",
    "    chunk_overlap=0\n",
    ")\n",
    "chunks = r_splitter.split_text(text)"
   ]
  },
  {
   "cell_type": "code",
   "execution_count": 22,
   "id": "e57d40d7",
   "metadata": {},
   "outputs": [
    {
     "name": "stdout",
     "output_type": "stream",
     "text": [
      "105\n",
      "120\n",
      "199\n",
      "10\n",
      "181\n",
      "197\n",
      "198\n",
      "8\n",
      "128\n",
      "191\n",
      "165\n",
      "198\n",
      "54\n"
     ]
    }
   ],
   "source": [
    "for chunk in chunks : \n",
    "    print(len(chunk))"
   ]
  },
  {
   "cell_type": "code",
   "execution_count": 23,
   "id": "b8bd02cd",
   "metadata": {},
   "outputs": [
    {
     "name": "stdout",
     "output_type": "stream",
     "text": [
      "439\n",
      "719\n",
      "612\n"
     ]
    }
   ],
   "source": [
    "chunks=text.split(\"\\n\\n\")\n",
    "for chunk in chunks : \n",
    "    print(len(chunk))"
   ]
  },
  {
   "cell_type": "code",
   "execution_count": 24,
   "id": "97025774",
   "metadata": {},
   "outputs": [
    {
     "data": {
      "text/plain": [
       "'Brothers Christopher and Jonathan Nolan wrote the screenplay, which had its origins in a script Jonathan developed in 2007 and was originally set to be directed by Steven Spielberg. \\nKip Thorne, a Caltech theoretical physicist and 2017 Nobel laureate in Physics,[4] was an executive producer, acted as a scientific consultant, and wrote a tie-in book, The Science of Interstellar. \\nCinematographer Hoyte van Hoytema shot it on 35 mm movie film in the Panavision anamorphic format and IMAX 70 mm. Principal photography began in late 2013 and took place in Alberta, Iceland, and Los Angeles. \\nInterstellar uses extensive practical and miniature effects, and the company Double Negative created additional digital effects.'"
      ]
     },
     "execution_count": 24,
     "metadata": {},
     "output_type": "execute_result"
    }
   ],
   "source": [
    "chunks[1]"
   ]
  },
  {
   "cell_type": "code",
   "execution_count": 25,
   "id": "7888fa53",
   "metadata": {},
   "outputs": [],
   "source": [
    "first_split=chunks[0]\n",
    "first_split=first_split.split(\"\\n\") "
   ]
  },
  {
   "cell_type": "code",
   "execution_count": 26,
   "id": "fc64cba6",
   "metadata": {},
   "outputs": [
    {
     "data": {
      "text/plain": [
       "['Interstellar is a 2014 epic science fiction film co-written, directed, and produced by Christopher Nolan. ',\n",
       " 'It stars Matthew McConaughey, Anne Hathaway, Jessica Chastain, Bill Irwin, Ellen Burstyn, Matt Damon, and Michael Caine. ',\n",
       " 'Set in a dystopian future where humanity is embroiled in a catastrophic blight and famine, the film follows a group of astronauts who travel through a wormhole near Saturn in search of a new home for humankind.']"
      ]
     },
     "execution_count": 26,
     "metadata": {},
     "output_type": "execute_result"
    }
   ],
   "source": [
    "first_split"
   ]
  },
  {
   "cell_type": "code",
   "execution_count": 27,
   "id": "5f6ddf06",
   "metadata": {},
   "outputs": [],
   "source": [
    "second_split=chunks[1]\n",
    "second_split=second_split.split(\" \")"
   ]
  },
  {
   "cell_type": "code",
   "execution_count": 28,
   "id": "0ae04c7d",
   "metadata": {},
   "outputs": [],
   "source": [
    "#pip install faiss-cpu "
   ]
  },
  {
   "cell_type": "code",
   "execution_count": 29,
   "id": "16677d4b",
   "metadata": {},
   "outputs": [],
   "source": [
    "#pip install sentence-transformers "
   ]
  },
  {
   "cell_type": "code",
   "execution_count": 30,
   "id": "ff825a05",
   "metadata": {},
   "outputs": [],
   "source": [
    "import pandas as pd \n",
    "pd.set_option('display.max_colwidth', 100)"
   ]
  },
  {
   "cell_type": "code",
   "execution_count": 31,
   "id": "ef711ed1",
   "metadata": {},
   "outputs": [
    {
     "data": {
      "text/plain": [
       "(8, 2)"
      ]
     },
     "execution_count": 31,
     "metadata": {},
     "output_type": "execute_result"
    }
   ],
   "source": [
    "df=pd.read_csv(\"sample_text.csv\")\n",
    "df.shape"
   ]
  },
  {
   "cell_type": "code",
   "execution_count": 32,
   "id": "f4fdf50e",
   "metadata": {},
   "outputs": [
    {
     "data": {
      "text/html": [
       "<div>\n",
       "<style scoped>\n",
       "    .dataframe tbody tr th:only-of-type {\n",
       "        vertical-align: middle;\n",
       "    }\n",
       "\n",
       "    .dataframe tbody tr th {\n",
       "        vertical-align: top;\n",
       "    }\n",
       "\n",
       "    .dataframe thead th {\n",
       "        text-align: right;\n",
       "    }\n",
       "</style>\n",
       "<table border=\"1\" class=\"dataframe\">\n",
       "  <thead>\n",
       "    <tr style=\"text-align: right;\">\n",
       "      <th></th>\n",
       "      <th>text</th>\n",
       "      <th>category</th>\n",
       "    </tr>\n",
       "  </thead>\n",
       "  <tbody>\n",
       "    <tr>\n",
       "      <th>0</th>\n",
       "      <td>Meditation and yoga can improve mental health</td>\n",
       "      <td>Health</td>\n",
       "    </tr>\n",
       "    <tr>\n",
       "      <th>1</th>\n",
       "      <td>Fruits, whole grains and vegetables helps control blood pressure</td>\n",
       "      <td>Health</td>\n",
       "    </tr>\n",
       "    <tr>\n",
       "      <th>2</th>\n",
       "      <td>These are the latest fashion trends for this week</td>\n",
       "      <td>Fashion</td>\n",
       "    </tr>\n",
       "    <tr>\n",
       "      <th>3</th>\n",
       "      <td>Vibrant color jeans for male are becoming a trend</td>\n",
       "      <td>Fashion</td>\n",
       "    </tr>\n",
       "    <tr>\n",
       "      <th>4</th>\n",
       "      <td>The concert starts at 7 PM tonight</td>\n",
       "      <td>Event</td>\n",
       "    </tr>\n",
       "    <tr>\n",
       "      <th>5</th>\n",
       "      <td>Navaratri dandiya program at Expo center in Mumbai this october</td>\n",
       "      <td>Event</td>\n",
       "    </tr>\n",
       "    <tr>\n",
       "      <th>6</th>\n",
       "      <td>Exciting vacation destinations for your next trip</td>\n",
       "      <td>Travel</td>\n",
       "    </tr>\n",
       "    <tr>\n",
       "      <th>7</th>\n",
       "      <td>Maldives and Srilanka are gaining popularity in terms of low budget vacation places</td>\n",
       "      <td>Travel</td>\n",
       "    </tr>\n",
       "  </tbody>\n",
       "</table>\n",
       "</div>"
      ],
      "text/plain": [
       "                                                                                  text  \\\n",
       "0                                        Meditation and yoga can improve mental health   \n",
       "1                     Fruits, whole grains and vegetables helps control blood pressure   \n",
       "2                                    These are the latest fashion trends for this week   \n",
       "3                                    Vibrant color jeans for male are becoming a trend   \n",
       "4                                                   The concert starts at 7 PM tonight   \n",
       "5                      Navaratri dandiya program at Expo center in Mumbai this october   \n",
       "6                                    Exciting vacation destinations for your next trip   \n",
       "7  Maldives and Srilanka are gaining popularity in terms of low budget vacation places   \n",
       "\n",
       "  category  \n",
       "0   Health  \n",
       "1   Health  \n",
       "2  Fashion  \n",
       "3  Fashion  \n",
       "4    Event  \n",
       "5    Event  \n",
       "6   Travel  \n",
       "7   Travel  "
      ]
     },
     "execution_count": 32,
     "metadata": {},
     "output_type": "execute_result"
    }
   ],
   "source": [
    "df "
   ]
  },
  {
   "cell_type": "code",
   "execution_count": 33,
   "id": "9fc2aa26",
   "metadata": {},
   "outputs": [
    {
     "name": "stderr",
     "output_type": "stream",
     "text": [
      "C:\\Users\\hp\\anaconda3\\lib\\site-packages\\sentence_transformers\\SentenceTransformer.py:193: FutureWarning: The `use_auth_token` argument is deprecated and will be removed in v4 of SentenceTransformers.\n",
      "  warnings.warn(\n"
     ]
    }
   ],
   "source": [
    "from tensorflow import keras \n",
    "from sentence_transformers import SentenceTransformer \n",
    "encoder=SentenceTransformer(\"all-mpnet-base-v2\",use_auth_token='*')\n",
    "vectors=encoder.encode(df.text)"
   ]
  },
  {
   "cell_type": "code",
   "execution_count": 34,
   "id": "7c412ad4",
   "metadata": {},
   "outputs": [],
   "source": [
    "#pip install tensorflow"
   ]
  },
  {
   "cell_type": "code",
   "execution_count": 35,
   "id": "809b68cd",
   "metadata": {},
   "outputs": [
    {
     "data": {
      "text/plain": [
       "array([[-0.00247392,  0.03626726, -0.05290463, ..., -0.09152359,\n",
       "        -0.03970003, -0.04330489],\n",
       "       [-0.03357269,  0.00980513, -0.03250129, ..., -0.05165462,\n",
       "         0.02245887, -0.03156186],\n",
       "       [-0.01865323, -0.04051303, -0.01235385, ...,  0.00610585,\n",
       "        -0.07179644,  0.0277385 ],\n",
       "       ...,\n",
       "       [-0.00066465,  0.04252126, -0.05645507, ...,  0.01315469,\n",
       "        -0.03183566, -0.04357661],\n",
       "       [-0.03317156,  0.03252455, -0.02484838, ...,  0.01174424,\n",
       "         0.05747128,  0.0057102 ],\n",
       "       [-0.00166396,  0.00413831, -0.04597082, ...,  0.02008522,\n",
       "         0.05656243, -0.00161596]], dtype=float32)"
      ]
     },
     "execution_count": 35,
     "metadata": {},
     "output_type": "execute_result"
    }
   ],
   "source": [
    "vectors "
   ]
  },
  {
   "cell_type": "code",
   "execution_count": 36,
   "id": "bfc11300",
   "metadata": {},
   "outputs": [],
   "source": [
    "dim=vectors.shape[1]"
   ]
  },
  {
   "cell_type": "code",
   "execution_count": 37,
   "id": "4e919353",
   "metadata": {},
   "outputs": [
    {
     "data": {
      "text/plain": [
       "<faiss.swigfaiss_avx2.IndexFlatL2; proxy of <Swig Object of type 'faiss::IndexFlatL2 *' at 0x000002C3E07318F0> >"
      ]
     },
     "execution_count": 37,
     "metadata": {},
     "output_type": "execute_result"
    }
   ],
   "source": [
    "import faiss \n",
    "index=faiss.IndexFlatL2(dim)\n",
    "index "
   ]
  },
  {
   "cell_type": "code",
   "execution_count": 38,
   "id": "fdfa7064",
   "metadata": {},
   "outputs": [],
   "source": [
    "#pip uninstall tensorflow keras"
   ]
  },
  {
   "cell_type": "code",
   "execution_count": 39,
   "id": "a7ec4641",
   "metadata": {},
   "outputs": [
    {
     "data": {
      "text/plain": [
       "<faiss.swigfaiss_avx2.IndexFlatL2; proxy of <Swig Object of type 'faiss::IndexFlatL2 *' at 0x000002C3E07318F0> >"
      ]
     },
     "execution_count": 39,
     "metadata": {},
     "output_type": "execute_result"
    }
   ],
   "source": [
    "index.add(vectors)\n",
    "index "
   ]
  },
  {
   "cell_type": "code",
   "execution_count": 40,
   "id": "25d2549b",
   "metadata": {},
   "outputs": [
    {
     "data": {
      "text/plain": [
       "(768,)"
      ]
     },
     "execution_count": 40,
     "metadata": {},
     "output_type": "execute_result"
    }
   ],
   "source": [
    "#search_query=\"I want to buy a polo t-shirt\"\n",
    "search_query=\"One apple per day keep the doctor away\"\n",
    "vec=encoder.encode(search_query)\n",
    "vec.shape"
   ]
  },
  {
   "cell_type": "code",
   "execution_count": 41,
   "id": "d6ee0bcf",
   "metadata": {},
   "outputs": [],
   "source": [
    "import numpy as np \n",
    "svec=np.array(vec).reshape(1,-1)"
   ]
  },
  {
   "cell_type": "code",
   "execution_count": 42,
   "id": "d808d90f",
   "metadata": {},
   "outputs": [
    {
     "data": {
      "text/plain": [
       "array([[ 1.82464644e-02,  4.56874371e-02, -1.72905847e-02,\n",
       "         1.13802189e-02,  1.70955528e-02, -3.17502990e-02,\n",
       "        -5.43684661e-02,  6.58321008e-03,  3.52204405e-02,\n",
       "         4.46322002e-02,  7.39289001e-02, -4.68120351e-03,\n",
       "        -3.98395173e-02,  2.50967741e-02, -3.17743979e-02,\n",
       "         4.43712473e-02,  4.92172390e-02,  1.26417552e-04,\n",
       "        -4.64612851e-03, -2.85965819e-02, -1.47376768e-02,\n",
       "         1.22301010e-02,  1.81759223e-02,  1.69014521e-02,\n",
       "        -2.66286433e-02, -1.35686491e-02,  6.81273565e-02,\n",
       "         3.60697135e-02,  8.34500231e-03, -5.60822450e-02,\n",
       "        -3.91795523e-02, -4.69662203e-03, -6.93685710e-02,\n",
       "        -2.58666594e-02,  1.55797352e-06,  1.34867541e-02,\n",
       "         2.16922443e-02,  2.02701613e-02, -4.78109084e-02,\n",
       "         2.38966215e-02, -2.19338667e-02, -1.01929203e-01,\n",
       "         8.73351935e-03, -6.70317421e-03, -9.64833703e-03,\n",
       "         3.27633545e-02, -1.56507008e-02,  3.99133675e-02,\n",
       "         1.15251187e-02,  5.60248792e-02, -3.12342891e-03,\n",
       "        -2.45873593e-02,  1.65979415e-02,  3.19830440e-02,\n",
       "        -7.42024835e-03,  1.95029508e-02, -2.15587392e-03,\n",
       "         3.93691137e-02,  4.50590327e-02,  4.64376956e-02,\n",
       "        -2.44365796e-03, -5.32151153e-03,  2.69143917e-02,\n",
       "         7.67529570e-03, -2.64067277e-02,  2.43420918e-02,\n",
       "         2.16154009e-02, -4.33635563e-02,  8.77571013e-03,\n",
       "         3.08244326e-03,  3.85896675e-02,  7.48684853e-02,\n",
       "        -1.29960766e-02,  2.73300670e-02, -4.24588919e-02,\n",
       "        -4.16053236e-02,  2.78213229e-02,  3.61335129e-02,\n",
       "        -6.05193637e-02,  9.96634178e-03,  7.30065554e-02,\n",
       "        -7.01796822e-03,  2.37244051e-02,  4.82091270e-02,\n",
       "         4.75918613e-02,  6.95155410e-04,  2.65665781e-02,\n",
       "        -6.41545234e-03,  2.60597859e-02, -2.80012861e-02,\n",
       "        -9.15377494e-03, -2.43505761e-02,  4.82876711e-02,\n",
       "         1.55602787e-02,  2.66153347e-02, -3.92963067e-02,\n",
       "        -4.37922077e-03,  2.71891914e-02,  5.19584529e-02,\n",
       "        -9.71907973e-02, -4.48456779e-02,  3.52724129e-03,\n",
       "        -3.63599658e-02,  1.79073345e-02, -5.86079760e-03,\n",
       "        -5.56459539e-02, -6.59890026e-02,  6.10546693e-02,\n",
       "        -3.97172123e-02,  3.97644714e-02,  3.43892770e-03,\n",
       "         3.07571832e-02,  6.20360370e-04,  2.49927118e-02,\n",
       "         1.17265349e-02, -5.76413842e-03, -4.66033481e-02,\n",
       "        -5.41408993e-02, -4.04437073e-02, -2.60831695e-02,\n",
       "         1.85790081e-02,  2.56826840e-02,  6.89601200e-03,\n",
       "        -4.53666039e-02,  5.07559925e-02,  6.02921583e-02,\n",
       "        -4.38847281e-02,  3.28400321e-02, -3.38780992e-02,\n",
       "        -4.40298431e-02, -3.91553603e-02,  4.51255171e-03,\n",
       "         1.70057435e-02,  2.48902757e-02,  4.76504723e-03,\n",
       "         1.18083712e-02, -7.49318535e-03,  6.01331890e-02,\n",
       "         2.25829729e-03, -2.39326451e-02, -5.72070517e-02,\n",
       "         5.75957932e-02, -8.21873546e-03,  1.05779981e-02,\n",
       "        -5.46366684e-02, -4.04573567e-02,  4.75884378e-02,\n",
       "        -2.21121926e-02, -5.31482371e-03,  4.36543673e-02,\n",
       "        -1.59263816e-02, -3.04362290e-02,  2.47580279e-02,\n",
       "         6.63976148e-02,  2.16002651e-02,  2.39649881e-02,\n",
       "         2.70284079e-02,  4.36328584e-03,  2.49312744e-02,\n",
       "         2.62361718e-03,  2.09517498e-02, -9.53640975e-03,\n",
       "         2.94418167e-02,  1.54694775e-03, -1.11797340e-02,\n",
       "         1.50983706e-02,  2.50300635e-02,  6.96847029e-03,\n",
       "        -4.79463786e-02,  4.47383150e-03, -4.38574469e-03,\n",
       "         1.08433828e-01, -3.20919566e-02,  1.09188184e-02,\n",
       "         2.04964858e-02, -1.66722704e-02,  7.67463446e-03,\n",
       "         1.51671134e-02, -2.44925804e-02, -1.08531579e-01,\n",
       "        -9.76230670e-03, -2.42974074e-03, -1.67338271e-02,\n",
       "        -1.84083059e-02, -3.98970768e-02, -4.05159872e-03,\n",
       "        -4.39218208e-02, -4.72685322e-04, -3.28520536e-02,\n",
       "         2.79930513e-02, -2.34105829e-02, -1.67545751e-02,\n",
       "        -1.27256401e-02, -4.83780019e-02, -1.73329585e-03,\n",
       "        -1.68391131e-02,  2.84847617e-02,  1.65866120e-04,\n",
       "         3.95103693e-02, -2.35453937e-02, -1.64268129e-02,\n",
       "        -1.60032921e-02, -1.62883084e-02, -7.76390135e-02,\n",
       "        -7.66479177e-03, -5.53123606e-03,  1.50656421e-03,\n",
       "        -2.31270175e-02,  1.00906201e-01, -2.05994807e-02,\n",
       "         1.95307825e-02, -5.36827557e-02,  8.02550912e-02,\n",
       "         4.18247543e-02, -1.27634667e-02,  2.86854375e-02,\n",
       "         3.74306412e-03,  4.62294975e-03,  9.18919127e-03,\n",
       "         4.78601083e-02, -1.46982446e-02,  1.28926691e-02,\n",
       "         3.24633308e-02,  9.83387884e-03, -7.06557184e-02,\n",
       "        -4.92591709e-02,  3.61803621e-02, -4.18622866e-02,\n",
       "        -3.16711403e-02,  2.96519101e-02,  1.34880347e-02,\n",
       "         1.90722756e-02, -2.67830435e-02,  4.86189546e-03,\n",
       "         6.44735694e-02,  5.02651650e-03,  1.07666506e-02,\n",
       "        -5.06317616e-03, -3.56229879e-02,  2.63087060e-02,\n",
       "        -2.31768079e-02, -7.51636131e-03, -2.50614639e-02,\n",
       "        -3.84081365e-03, -6.00511469e-02, -1.43921291e-02,\n",
       "         3.02837789e-02, -1.91293135e-02, -3.15875448e-02,\n",
       "         4.50633056e-02, -3.82892564e-02, -2.12053172e-02,\n",
       "        -4.80876975e-02, -2.33113524e-02, -4.73114923e-02,\n",
       "        -1.12420646e-02, -3.44137959e-02, -3.02914288e-02,\n",
       "         1.08834833e-03,  2.64747180e-02, -2.61384826e-02,\n",
       "         2.76612435e-02, -1.72293372e-02, -1.41615409e-03,\n",
       "         4.36803773e-02, -3.82616557e-02, -2.72905864e-02,\n",
       "        -2.81176027e-02, -3.45248207e-02, -2.75099054e-02,\n",
       "        -7.22529739e-03,  5.45673184e-02,  2.18332857e-02,\n",
       "         2.54894029e-02, -2.63200067e-02, -6.13997132e-03,\n",
       "        -5.49277700e-02, -1.01902699e-02,  2.64461181e-04,\n",
       "        -6.30630031e-02,  9.01942328e-03, -2.83698365e-02,\n",
       "         2.34698523e-02,  8.15468375e-03,  1.31721667e-03,\n",
       "        -5.19659594e-02,  3.25110275e-03,  2.23298836e-02,\n",
       "         3.53064425e-02, -1.23792648e-01, -7.11233879e-04,\n",
       "         1.13556511e-03, -1.71763562e-02,  9.58140716e-02,\n",
       "        -5.00532202e-02, -2.69013327e-02,  2.54028663e-02,\n",
       "         4.50522862e-02, -2.67212745e-02,  2.59015709e-02,\n",
       "        -5.16030006e-03,  8.84914119e-03,  8.08557775e-03,\n",
       "        -1.52125806e-02,  2.00714096e-02,  2.25337036e-02,\n",
       "        -9.19033121e-03, -6.90642893e-02, -5.70181347e-02,\n",
       "         6.22165501e-02,  1.18968775e-02,  3.06751058e-02,\n",
       "         5.13555408e-02,  2.57286578e-02, -3.48182991e-02,\n",
       "        -9.76240542e-03,  2.25350261e-03,  8.09738936e-04,\n",
       "         1.92956608e-02, -8.43891315e-03,  1.21704619e-02,\n",
       "         6.21967076e-04,  2.91288327e-02, -1.74362045e-02,\n",
       "         2.81465426e-02, -1.00519992e-02,  3.37333535e-03,\n",
       "         1.95594076e-02, -2.84588970e-02, -3.72047834e-02,\n",
       "         2.02037916e-02, -1.25678461e-02,  1.55956475e-02,\n",
       "        -4.02215905e-02,  3.04647535e-02, -5.33822924e-02,\n",
       "        -2.42728721e-02,  9.52300150e-03, -3.57848778e-02,\n",
       "         1.12671126e-02, -2.30118111e-02, -6.26486093e-02,\n",
       "        -3.21050398e-02,  1.40973004e-02, -4.81447242e-02,\n",
       "        -1.47788844e-03, -1.90889277e-02,  3.23625132e-02,\n",
       "        -3.53116356e-02,  1.68359932e-02, -1.95016414e-02,\n",
       "         4.16059885e-03,  1.94851048e-02, -9.06059425e-03,\n",
       "         1.51442047e-02, -7.02906586e-03,  1.52476346e-02,\n",
       "         9.30203311e-03, -2.68440228e-02,  7.12446752e-04,\n",
       "         4.92246598e-02,  3.92725281e-02, -1.00265481e-02,\n",
       "         1.14014419e-02, -1.06811535e-03, -3.15696970e-02,\n",
       "        -2.54239254e-02,  5.43517014e-03, -1.36996247e-02,\n",
       "        -2.51137652e-02,  1.93906780e-02,  6.93580136e-02,\n",
       "        -8.68353993e-02, -7.14761112e-03, -2.36608437e-03,\n",
       "        -1.41688492e-02,  6.08300716e-02,  2.03132294e-02,\n",
       "        -4.22594026e-02, -8.29826947e-03,  4.95033376e-02,\n",
       "        -4.88729030e-02, -6.53879046e-02, -1.34778442e-02,\n",
       "        -3.99449654e-02, -2.11144220e-02,  3.01889945e-02,\n",
       "        -3.50146182e-02,  2.65393332e-02, -4.01218049e-02,\n",
       "         1.46342944e-02,  1.92699600e-02, -6.18005656e-02,\n",
       "        -2.17961706e-03, -4.93725725e-02, -3.53501327e-02,\n",
       "        -1.95203070e-02, -3.77372280e-02,  9.49414447e-04,\n",
       "         3.31349932e-02,  1.62512418e-02,  7.78471539e-03,\n",
       "        -5.46649378e-03,  2.67839376e-02,  6.56405315e-02,\n",
       "         4.20251535e-03,  7.10047930e-02, -1.98786100e-03,\n",
       "         2.71144155e-02, -2.70819049e-02,  1.53775904e-02,\n",
       "         3.26572638e-03,  1.76095571e-02, -3.54503021e-02,\n",
       "         5.72400428e-02,  3.05017573e-03,  2.54472699e-02,\n",
       "        -1.34127233e-02,  6.04043640e-02, -6.05322793e-02,\n",
       "        -2.37505138e-02,  4.72495183e-02,  2.21802038e-03,\n",
       "         3.74468192e-02, -1.69035029e-02, -3.74338217e-02,\n",
       "         2.61020698e-02,  1.11525995e-03, -3.25109065e-02,\n",
       "        -9.68958251e-03,  5.39325736e-02,  4.13920134e-02,\n",
       "         2.52811797e-02,  4.16235514e-02, -5.78830726e-02,\n",
       "         4.81615886e-02,  7.39878342e-02,  1.00079728e-02,\n",
       "        -6.56747026e-03, -3.44512351e-02, -6.17285818e-02,\n",
       "        -2.16067620e-02,  2.10486562e-03,  2.09488701e-02,\n",
       "        -1.42362211e-02,  2.52401810e-02,  2.60324702e-02,\n",
       "         5.98531738e-02,  5.53716831e-02, -2.24366202e-03,\n",
       "         6.88705919e-03,  5.22297435e-03,  1.86633412e-02,\n",
       "         2.20928006e-02,  5.35756685e-02, -1.11887669e-02,\n",
       "         4.61633019e-02, -3.66446301e-02,  3.16688344e-02,\n",
       "        -1.69276781e-02,  5.07352203e-02,  2.45843325e-02,\n",
       "         3.41679603e-02, -3.17853242e-02, -1.29536018e-02,\n",
       "        -1.36526376e-02,  2.60666925e-02,  1.02531677e-02,\n",
       "         5.03263026e-02, -8.82161688e-03, -2.84834504e-02,\n",
       "         3.08358613e-02, -9.33027919e-03, -2.36091428e-02,\n",
       "         6.98165074e-02,  4.26374972e-02, -1.82245043e-03,\n",
       "        -6.30585998e-02,  2.00659204e-02, -2.29499489e-02,\n",
       "        -1.05755571e-04,  2.07038820e-02, -1.25591038e-02,\n",
       "         5.88356480e-02,  3.95591510e-03, -5.06152213e-03,\n",
       "         1.78621057e-02, -2.56766267e-02,  5.81074320e-03,\n",
       "        -7.72736780e-03, -5.60467504e-02, -6.48191804e-03,\n",
       "         1.06416624e-02,  4.22479026e-03, -2.01155292e-03,\n",
       "        -3.53219770e-02, -5.64160496e-02, -8.61277208e-02,\n",
       "         3.44392918e-02,  3.60321216e-02, -3.56740714e-03,\n",
       "        -8.68574064e-03,  3.91025748e-03, -3.43625247e-03,\n",
       "        -1.63193177e-02,  2.01331708e-03, -9.34160966e-03,\n",
       "         6.01223148e-02, -3.19064152e-03, -3.34263369e-02,\n",
       "        -1.23582128e-03,  2.86388658e-02, -7.82771334e-02,\n",
       "        -2.56414935e-02, -6.32497808e-03,  4.29959521e-02,\n",
       "        -3.95080224e-02, -2.30053384e-02,  3.97713669e-02,\n",
       "         1.35469763e-02,  4.14318638e-03, -4.93446775e-02,\n",
       "         4.14561592e-02,  2.58903299e-02,  4.50436063e-02,\n",
       "         4.86454479e-02, -8.90880451e-03, -2.61519514e-02,\n",
       "        -2.84565222e-02,  4.18269150e-02, -8.45161304e-02,\n",
       "        -3.41868363e-02, -3.48612294e-02,  1.49209872e-02,\n",
       "        -4.81919311e-02,  3.13683972e-02, -2.91042067e-02,\n",
       "         7.61043094e-03, -2.35115718e-02, -4.94992128e-03,\n",
       "        -3.20078880e-02, -9.60601494e-03, -4.62746155e-03,\n",
       "        -1.39884148e-02,  7.40261525e-02, -4.98842113e-02,\n",
       "        -5.64481802e-02, -1.75582953e-02,  3.49107049e-02,\n",
       "        -6.26326576e-02,  3.73877841e-03,  6.50231913e-02,\n",
       "        -9.27293226e-02, -4.56288829e-02, -9.45693348e-03,\n",
       "        -4.57701060e-33, -2.57241651e-02,  5.85344769e-02,\n",
       "         2.95559620e-03, -2.16241125e-02,  4.73359041e-02,\n",
       "         1.11524463e-01, -7.79261021e-03, -4.71530892e-02,\n",
       "        -3.27810943e-02,  5.64295091e-02, -4.38153092e-03,\n",
       "        -1.59071106e-02,  1.88975818e-02,  1.04750870e-02,\n",
       "         2.76937466e-02, -1.03890952e-02,  3.05521227e-02,\n",
       "         3.76390330e-02, -1.81298871e-02,  5.02986871e-02,\n",
       "        -9.55652371e-02,  4.59186919e-03, -2.75591910e-02,\n",
       "         5.25764823e-02,  3.34613398e-03,  3.92781431e-03,\n",
       "         3.51773836e-02,  5.79883868e-04,  7.30733154e-03,\n",
       "        -2.52055209e-02,  1.17120473e-02,  1.58786178e-02,\n",
       "         3.18090655e-02,  3.53048518e-02,  5.36961621e-03,\n",
       "        -7.67474156e-03,  2.97443792e-02, -8.50799866e-03,\n",
       "        -1.47534842e-02, -2.55441032e-02, -4.22426164e-02,\n",
       "        -2.15026028e-02,  3.04810181e-02, -2.54580956e-02,\n",
       "        -2.56728437e-02,  3.69143598e-02,  5.43628559e-02,\n",
       "         1.57772601e-02, -6.96483776e-02,  5.87084470e-03,\n",
       "        -9.85305291e-03,  2.22927090e-02,  5.08926921e-02,\n",
       "        -3.13073285e-02, -4.85752523e-02,  6.05169870e-02,\n",
       "        -9.74173367e-04,  7.50963688e-02,  1.94241721e-02,\n",
       "         6.01563603e-03,  3.20419706e-02, -4.24426049e-02,\n",
       "        -3.02862395e-02, -7.86048640e-03, -6.98980130e-03,\n",
       "         1.15277898e-02, -4.82301600e-03, -7.10458159e-02,\n",
       "        -4.05097120e-02, -6.65174914e-04, -5.17159849e-02,\n",
       "        -8.23209137e-02,  2.46280935e-02, -3.57651450e-02,\n",
       "         4.55152951e-02, -3.49068418e-02, -7.69166872e-02,\n",
       "         3.32962833e-02, -1.24533579e-01,  2.45308410e-02,\n",
       "        -3.58713083e-02, -3.02205142e-03,  5.97381499e-03,\n",
       "        -1.07889064e-02,  3.23017277e-02,  1.48263508e-02,\n",
       "         1.89008154e-02,  6.84585096e-03,  1.52743813e-02,\n",
       "        -2.63706613e-02, -1.29219526e-02,  6.04796931e-02,\n",
       "         8.36898200e-03, -1.52405826e-02,  2.42830962e-02,\n",
       "        -4.37760130e-02,  7.68892765e-02,  1.20592406e-02,\n",
       "        -4.82121073e-02, -1.04219010e-02, -3.15462612e-02,\n",
       "        -1.80874225e-02, -6.54944126e-03, -1.38794323e-02,\n",
       "         4.62900884e-02,  5.45545332e-02, -4.24606167e-03,\n",
       "        -2.54185498e-02, -6.37039915e-03, -2.79541351e-02,\n",
       "        -9.35301650e-03, -1.67558417e-02, -9.10186768e-03,\n",
       "         3.41787450e-02,  3.20642907e-03,  6.08744584e-02,\n",
       "         2.65023634e-02,  7.12542981e-02,  4.86432686e-02,\n",
       "        -2.77571362e-02, -5.92725426e-02, -3.43383215e-02,\n",
       "         8.94639939e-02, -1.58897657e-02,  2.20773779e-02,\n",
       "        -7.15672299e-02,  2.82993149e-02, -1.33024305e-02,\n",
       "        -7.42911547e-02, -5.46467751e-02,  2.49159448e-02,\n",
       "        -2.89288405e-02,  2.16627669e-07, -2.96611320e-02,\n",
       "         1.53505951e-02,  3.33327358e-03, -6.02771863e-02,\n",
       "        -3.53976972e-02, -2.65006628e-03,  1.14773400e-02,\n",
       "        -1.85598228e-02, -5.61197884e-02, -6.49018586e-02,\n",
       "         1.96072925e-02, -1.18025439e-02, -3.63306664e-02,\n",
       "         1.88005082e-02,  7.38874972e-02,  7.95499608e-02,\n",
       "        -8.70784670e-02,  2.21028272e-02, -8.86889733e-03,\n",
       "        -2.48441882e-02,  2.84108985e-03,  9.29361954e-03,\n",
       "        -2.51982873e-03, -4.25470211e-02,  2.87343394e-02,\n",
       "        -6.59675151e-02, -1.02904625e-02,  6.08092546e-02,\n",
       "         5.91558516e-02, -1.53020034e-02,  1.45085771e-02,\n",
       "        -2.44501047e-03,  4.85446155e-02, -2.35121436e-02,\n",
       "        -2.57571563e-02, -3.20154764e-02, -3.57660465e-02,\n",
       "         6.69039339e-02, -9.11817625e-02,  9.05631483e-02,\n",
       "        -2.69405358e-02,  6.41362965e-02,  2.55878171e-04,\n",
       "         1.32588409e-02,  9.39907215e-04, -3.07078380e-02,\n",
       "        -5.19164503e-02,  5.54678440e-02,  9.20272693e-02,\n",
       "         2.05246918e-02,  4.15556245e-02,  3.10087018e-02,\n",
       "        -2.11138111e-02,  1.77733433e-02,  1.43979425e-02,\n",
       "         2.95367464e-02,  3.96602824e-02, -3.24706659e-02,\n",
       "         2.91480385e-02, -6.82250271e-03,  2.88978778e-02,\n",
       "        -4.96218614e-02,  6.15915582e-02, -1.33548900e-02,\n",
       "        -5.95281422e-02,  1.28153199e-02, -2.06300374e-02,\n",
       "         1.18115027e-34, -1.89451687e-02, -2.72706132e-02,\n",
       "         1.12175867e-02, -3.81933387e-05, -1.15789454e-02,\n",
       "         4.13921475e-02,  3.72495875e-02,  3.50224413e-02,\n",
       "         3.33371572e-02, -3.41914129e-03, -4.24813814e-02]], dtype=float32)"
      ]
     },
     "execution_count": 42,
     "metadata": {},
     "output_type": "execute_result"
    }
   ],
   "source": [
    "svec"
   ]
  },
  {
   "cell_type": "code",
   "execution_count": 43,
   "id": "32a26804",
   "metadata": {},
   "outputs": [],
   "source": [
    "distances,I=index.search(svec,k=2)"
   ]
  },
  {
   "cell_type": "code",
   "execution_count": 44,
   "id": "f8227e9b",
   "metadata": {},
   "outputs": [],
   "source": [
    "#So then we have to compare those two things below : "
   ]
  },
  {
   "cell_type": "code",
   "execution_count": 45,
   "id": "cc5e6d55",
   "metadata": {},
   "outputs": [],
   "source": [
    "# Our search query is \"I want to buy a polo t-shirt\" wich is related to fashion "
   ]
  },
  {
   "cell_type": "code",
   "execution_count": 46,
   "id": "6643b773",
   "metadata": {},
   "outputs": [
    {
     "data": {
      "text/plain": [
       "array([[1.3252231, 1.7418259]], dtype=float32)"
      ]
     },
     "execution_count": 46,
     "metadata": {},
     "output_type": "execute_result"
    }
   ],
   "source": [
    "distances "
   ]
  },
  {
   "cell_type": "code",
   "execution_count": 47,
   "id": "13bbc0d0",
   "metadata": {},
   "outputs": [
    {
     "data": {
      "text/plain": [
       "array([[1, 0]], dtype=int64)"
      ]
     },
     "execution_count": 47,
     "metadata": {},
     "output_type": "execute_result"
    }
   ],
   "source": [
    "I"
   ]
  },
  {
   "cell_type": "code",
   "execution_count": 52,
   "id": "9288c73f",
   "metadata": {},
   "outputs": [
    {
     "data": {
      "text/html": [
       "<div>\n",
       "<style scoped>\n",
       "    .dataframe tbody tr th:only-of-type {\n",
       "        vertical-align: middle;\n",
       "    }\n",
       "\n",
       "    .dataframe tbody tr th {\n",
       "        vertical-align: top;\n",
       "    }\n",
       "\n",
       "    .dataframe thead th {\n",
       "        text-align: right;\n",
       "    }\n",
       "</style>\n",
       "<table border=\"1\" class=\"dataframe\">\n",
       "  <thead>\n",
       "    <tr style=\"text-align: right;\">\n",
       "      <th></th>\n",
       "      <th>text</th>\n",
       "      <th>category</th>\n",
       "    </tr>\n",
       "  </thead>\n",
       "  <tbody>\n",
       "    <tr>\n",
       "      <th>1</th>\n",
       "      <td>Fruits, whole grains and vegetables helps control blood pressure</td>\n",
       "      <td>Health</td>\n",
       "    </tr>\n",
       "    <tr>\n",
       "      <th>0</th>\n",
       "      <td>Meditation and yoga can improve mental health</td>\n",
       "      <td>Health</td>\n",
       "    </tr>\n",
       "  </tbody>\n",
       "</table>\n",
       "</div>"
      ],
      "text/plain": [
       "                                                               text category\n",
       "1  Fruits, whole grains and vegetables helps control blood pressure   Health\n",
       "0                     Meditation and yoga can improve mental health   Health"
      ]
     },
     "execution_count": 52,
     "metadata": {},
     "output_type": "execute_result"
    }
   ],
   "source": [
    "df.loc[I[0]]"
   ]
  },
  {
   "cell_type": "code",
   "execution_count": 49,
   "id": "0d42c3a6",
   "metadata": {},
   "outputs": [],
   "source": [
    "#Semantic search : to look for it later "
   ]
  },
  {
   "cell_type": "code",
   "execution_count": 50,
   "id": "ba88618c",
   "metadata": {},
   "outputs": [],
   "source": [
    "#pip install tensorflow==2.12"
   ]
  },
  {
   "cell_type": "code",
   "execution_count": null,
   "id": "fedec612",
   "metadata": {},
   "outputs": [],
   "source": [
    "#then we will use retreverial to create prompts "
   ]
  },
  {
   "cell_type": "code",
   "execution_count": null,
   "id": "e3d489e3",
   "metadata": {},
   "outputs": [],
   "source": [
    "#for every chunk we will create a llm then a filtred chunk "
   ]
  },
  {
   "cell_type": "code",
   "execution_count": null,
   "id": "a6368817",
   "metadata": {},
   "outputs": [],
   "source": [
    "#the summary of chunks will be used to create the summary chunk "
   ]
  },
  {
   "cell_type": "code",
   "execution_count": null,
   "id": "1954e10c",
   "metadata": {},
   "outputs": [],
   "source": []
  },
  {
   "cell_type": "code",
   "execution_count": null,
   "id": "81291cb7",
   "metadata": {},
   "outputs": [],
   "source": []
  },
  {
   "cell_type": "code",
   "execution_count": null,
   "id": "9eb8cb1c",
   "metadata": {},
   "outputs": [],
   "source": []
  },
  {
   "cell_type": "code",
   "execution_count": 51,
   "id": "ec730c2f",
   "metadata": {},
   "outputs": [],
   "source": [
    "#pip install -U sentence-transformers"
   ]
  },
  {
   "cell_type": "code",
   "execution_count": null,
   "id": "3bd158c2",
   "metadata": {},
   "outputs": [],
   "source": []
  }
 ],
 "metadata": {
  "kernelspec": {
   "display_name": "Python 3 (ipykernel)",
   "language": "python",
   "name": "python3"
  },
  "language_info": {
   "codemirror_mode": {
    "name": "ipython",
    "version": 3
   },
   "file_extension": ".py",
   "mimetype": "text/x-python",
   "name": "python",
   "nbconvert_exporter": "python",
   "pygments_lexer": "ipython3",
   "version": "3.10.9"
  }
 },
 "nbformat": 4,
 "nbformat_minor": 5
}
